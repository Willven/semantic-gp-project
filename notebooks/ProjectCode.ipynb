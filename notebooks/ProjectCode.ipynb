{
 "cells": [
  {
   "cell_type": "code",
   "execution_count": 761,
   "metadata": {},
   "outputs": [
    {
     "name": "stdout",
     "output_type": "stream",
     "text": [
      "Populating the interactive namespace from numpy and matplotlib\n"
     ]
    },
    {
     "name": "stderr",
     "output_type": "stream",
     "text": [
      "/anaconda3/envs/eco/lib/python3.7/site-packages/IPython/core/magics/pylab.py:160: UserWarning: pylab import has clobbered these variables: ['subtract', 'dot', 'multiply', 'random']\n",
      "`%matplotlib` prevents importing * from pylab and numpy\n",
      "  \"\\n`%matplotlib` prevents importing * from pylab and numpy\"\n"
     ]
    }
   ],
   "source": [
    "%pylab inline\n",
    "import random\n",
    "from tqdm import tqdm_notebook\n",
    "from numba import jit, njit"
   ]
  },
  {
   "cell_type": "code",
   "execution_count": 31,
   "metadata": {},
   "outputs": [
    {
     "data": {
      "text/plain": [
       "{'divide': 'warn', 'over': 'warn', 'under': 'ignore', 'invalid': 'warn'}"
      ]
     },
     "execution_count": 31,
     "metadata": {},
     "output_type": "execute_result"
    }
   ],
   "source": [
    "seterr(all='raise')"
   ]
  },
  {
   "cell_type": "code",
   "execution_count": 782,
   "metadata": {},
   "outputs": [],
   "source": [
    "def multiply(x, y):\n",
    "    return x * y\n",
    "\n",
    "def subtract(x, y):\n",
    "    return x - y\n",
    "\n",
    "def addition(x, y):\n",
    "    return x + y\n",
    "\n",
    "def safe_divide(x, y):\n",
    "    try:\n",
    "        return x / y\n",
    "    except FloatingPointError:\n",
    "        return maximum(x, y)\n",
    "    except ZeroDivisionError:\n",
    "        return maximum(x, y)\n",
    "            \n",
    "def euclidian(x, y):\n",
    "    if len(x) != len(y):\n",
    "        raise RuntimeError('Mismatched Shapes')\n",
    "    s = 0\n",
    "    for i, j in zip(x, y):\n",
    "        s += (i-j)**2\n",
    "    return s**0.5\n",
    "\n",
    "def less_than(x, y):\n",
    "    return int(x < y)\n",
    "    \n",
    "operators = ['multiply', 'subtract', 'addition', 'safe_divide', 'less_than']"
   ]
  },
  {
   "cell_type": "code",
   "execution_count": 783,
   "metadata": {},
   "outputs": [],
   "source": [
    "import pandas as pd"
   ]
  },
  {
   "cell_type": "code",
   "execution_count": 784,
   "metadata": {},
   "outputs": [
    {
     "name": "stdout",
     "output_type": "stream",
     "text": [
      "(1911, 29)\n"
     ]
    }
   ],
   "source": [
    "X = pd.read_csv('../data/reg_inputs.csv')\n",
    "t = loadtxt('../data/reg_targets.csv', delimiter=',', dtype=float).astype('object')\n",
    "\n",
    "y = t\n",
    "# y = array([t[:, 0] < t[:, 1], t[:, 2] < t[:, 3]]).T\n",
    "# y = t[:, 0] + t[:, 2] - t[:, 1] - t[:, 3]\n",
    "# y = y.reshape(-1, 1)\n",
    "\n",
    "X = X.values[:, 1:].astype('object')\n",
    "print(X.shape)"
   ]
  },
  {
   "cell_type": "code",
   "execution_count": 785,
   "metadata": {},
   "outputs": [],
   "source": [
    "# Training set\n",
    "I = permutation(len(t))\n",
    "Xtr = X[I[:250]]\n",
    "ttr = y[I[:250]]\n",
    "\n",
    "Xte = X[I[-500:]]\n",
    "tte = y[I[-500:]]"
   ]
  },
  {
   "cell_type": "code",
   "execution_count": 786,
   "metadata": {},
   "outputs": [
    {
     "data": {
      "text/plain": [
       "((1911, 4), (250, 4))"
      ]
     },
     "execution_count": 786,
     "metadata": {},
     "output_type": "execute_result"
    }
   ],
   "source": [
    "y.shape, ttr.shape"
   ]
  },
  {
   "cell_type": "code",
   "execution_count": 834,
   "metadata": {},
   "outputs": [],
   "source": [
    " def memoize(f):\n",
    "    f.cache = {}\n",
    "    def decorated_function(*args):\n",
    "        if args in f.cache:\n",
    "            return f.cache[args]\n",
    "        else:\n",
    "            f.cache[args] = f(*args)\n",
    "            return f.cache[args]\n",
    "    return decorated_function\n",
    "\n",
    "class Simulation:\n",
    "    def __init__(self, mutation_rate, input_vars, max_depth, inputs, targets, operators, \\\n",
    "                 pop_size, trunc_ratio=0.5):\n",
    "        self.mutation_rate = mutation_rate\n",
    "        self.vars = input_vars\n",
    "        self.max_depth = max_depth\n",
    "        self.inputs = inputs\n",
    "        self.targets = targets\n",
    "        self.operators = operators\n",
    "        self.pop_size = pop_size\n",
    "        self.trunc_ratio = trunc_ratio\n",
    "    \n",
    "    def random_expression(self, depth):\n",
    "        if depth == 1 or random.random() < 1/(2**depth-1):\n",
    "            return random.choice((*self.vars, *[str(random.random())] * 10))\n",
    "        else:\n",
    "            return '(' + random.choice(operators) + '(' + \\\n",
    "                self.random_expression(depth - 1) + ',' + \\\n",
    "                self.random_expression(depth - 1) + '))'\n",
    "        \n",
    "    def random_function(self):\n",
    "        re = self.random_expression(self.max_depth)\n",
    "\n",
    "        rf = eval('lambda ' + ', '.join(self.vars) + ': ' + re)\n",
    "        rf = memoize(rf)\n",
    "        rf.geno = lambda: re\n",
    "        return rf\n",
    "    \n",
    "    def crossover(self, p1, p2):\n",
    "        k = random.random()\n",
    "        offspring = lambda *x: k * p1(*x) + (1-k) * p2(*x)\n",
    "        offspring = memoize(offspring) # add cache\n",
    "        offspring.geno = lambda: '(('+ str(k) + '*' + p1.geno() + ') + ((1-' + str(k) + ')' +  p2.geno() + '))'\n",
    "        return offspring\n",
    "    \n",
    "    def mutation(self, p):\n",
    "        rm = self.random_function()\n",
    "        rn = self.random_function()\n",
    "        \n",
    "        offspring = lambda *x: p(*x) + self.mutation_rate * (rm(*x) * p(*x) - rn(*x) * p(*x))\n",
    "        offspring = memoize(offspring) # add cache\n",
    "        offspring.geno = lambda: '((' + p.geno() + str(self.mutation_rate) + '*(' + rm.geno() + '*' + p.geno() + \\\n",
    "                            '-' + rn.geno() + '*' + p.geno() + ')))'\n",
    "        return offspring\n",
    "    \n",
    "    def _grade_pop(self):\n",
    "        return [ (self.fitness(ind), ind) for ind in self.pop ]\n",
    "    \n",
    "    def _sort_pop(self, graded_pop):\n",
    "        return [ (ind[0], ind[1]) for ind in sorted(graded_pop, key=self._sorted_key) ]\n",
    "    \n",
    "    def _sorted_key(self, x):\n",
    "        return x[0]\n",
    "        \n",
    "    def _get_parent_pop(self, parent_pop):\n",
    "        return [p[1] for p in parent_pop]\n",
    "\n",
    "    def _do_crossover_mutation(self, parent_pop):\n",
    "        for i in range(self.pop_size - len(parent_pop)):\n",
    "            parent = random.sample(parent_pop, 2)\n",
    "            self.pop.append(self.mutation(self.crossover(parent[0][1], parent[1][1])))\n",
    "               \n",
    "    def _get_initial_pop(self):\n",
    "        return [ self.random_function() for i in range(self.pop_size) ]\n",
    "    \n",
    "        \n",
    "    def fitness(self, individual, X=None, t=None):\n",
    "        if (X is None) or (t is None):\n",
    "            X = self.inputs\n",
    "            t = self.targets\n",
    "            \n",
    "        fit = 0\n",
    "        for i, elements in enumerate(X):\n",
    "            fit += abs(int(t[i]) - int(individual(*elements)))\n",
    "        \n",
    "        return min(fit, 7*len(X))\n",
    "        \n",
    "    def evolve(self, generations=10):\n",
    "        self.pop = self._get_initial_pop()\n",
    "    \n",
    "        desc_template = 'G: {:.0f}. M: {:.0f}, A: {:.0f}, BE: {:.0f}'\n",
    "        loop = tqdm_notebook(range(generations))\n",
    "        \n",
    "        self.best_fitness = inf\n",
    "        self.best_fitness_func = None\n",
    "        \n",
    "        past_avg_fit = -1\n",
    "        past_avg_fit_convergence_counter = 0\n",
    "        \n",
    "        avg_fitnesses = []\n",
    "        \n",
    "        for gen in loop:\n",
    "            graded_pop = self._grade_pop()\n",
    "            sorted_pop = self._sort_pop(graded_pop)\n",
    "            \n",
    "            if (sorted_pop[0][0] < self.best_fitness):\n",
    "                self.best_fitness = sorted_pop[0][0]\n",
    "                self.best_fitness_func = sorted_pop[0][1]\n",
    "            \n",
    "            avg_fit = mean([i[0] for i in sorted_pop])\n",
    "            avg_fitnesses.append(avg_fit)\n",
    "            loop.set_description(desc_template.format(gen, sorted_pop[0][0], avg_fit, self.best_fitness))\n",
    "\n",
    "            parent_pop = sorted_pop[:int(self.trunc_ratio * self.pop_size)]\n",
    "            \n",
    "            if avg_fit == past_avg_fit:\n",
    "                past_avg_fit_convergence_counter += 1\n",
    "                if past_avg_fit_convergence_counter >= 10:\n",
    "                    print('Early convergence detected.')\n",
    "                    break\n",
    "            else:\n",
    "                past_avg_fit = avg_fit\n",
    "                past_avg_fit_convergence_counter = 0\n",
    "\n",
    "\n",
    "            parent_pop = self._get_parent_pop(parent_pop)\n",
    "            for i in range(self.pop_size):\n",
    "                p1, p2 = random.sample(parent_pop, 2)\n",
    "                self.pop[i] = self.mutation(self.crossover(p1, p2))\n",
    "#             self.pop = self._get_parent_pop(parent_pop)\n",
    "#             self._do_crossover_mutation(parent_pop)\n",
    "\n",
    "        return self.best_fitness_func, avg_fitnesses"
   ]
  },
  {
   "cell_type": "code",
   "execution_count": 835,
   "metadata": {},
   "outputs": [],
   "source": [
    "class GPTree:\n",
    "    def __init__(self, mutation_rate, input_vars, max_depth, operators, \\\n",
    "                 pop_size, trunc_ratio=0.5):\n",
    "        self.mutation_rate = mutation_rate\n",
    "        self.input_vars = input_vars\n",
    "        self.max_depth = max_depth\n",
    "\n",
    "        self.operators = operators\n",
    "        self.pop_size = pop_size\n",
    "        self.trunc_ratio = trunc_ratio\n",
    "        \n",
    "    def run(self, inputs, targets, generations):\n",
    "        self.inputs = inputs\n",
    "        self.targets = targets\n",
    "        \n",
    "        self.tree = [Simulation(mutation_rate=self.mutation_rate, input_vars=self.input_vars, \\\n",
    "                                targets=self.targets[:, i], inputs= self.inputs, \\\n",
    "                                max_depth=self.max_depth, operators=self.operators, pop_size=self.pop_size,\\\n",
    "                                trunc_ratio=self.trunc_ratio) for i in range(self.targets.shape[1])]\n",
    "        \n",
    "        self._evolve(generations)\n",
    "            \n",
    "    def _evolve(self, generations):\n",
    "        for sim in self.tree:\n",
    "            sim.evolve(generations)\n",
    "            \n",
    "    def predict(self, Xte):\n",
    "        return array([[sim.best_fitness_func(*X) for sim in self.tree] for X in Xtr]).astype(int)"
   ]
  },
  {
   "cell_type": "code",
   "execution_count": 836,
   "metadata": {},
   "outputs": [
    {
     "data": {
      "application/vnd.jupyter.widget-view+json": {
       "model_id": "a028a3f02f0b458b89adf2e8bc2823df",
       "version_major": 2,
       "version_minor": 0
      },
      "text/plain": [
       "HBox(children=(IntProgress(value=0, max=10), HTML(value='')))"
      ]
     },
     "metadata": {},
     "output_type": "display_data"
    },
    {
     "data": {
      "application/vnd.jupyter.widget-view+json": {
       "model_id": "49e014f8a7ba4c539db4d48f78d71872",
       "version_major": 2,
       "version_minor": 0
      },
      "text/plain": [
       "HBox(children=(IntProgress(value=0, max=10), HTML(value='')))"
      ]
     },
     "metadata": {},
     "output_type": "display_data"
    },
    {
     "data": {
      "application/vnd.jupyter.widget-view+json": {
       "model_id": "19f6996b12874e95b0cf0f58cd509f4d",
       "version_major": 2,
       "version_minor": 0
      },
      "text/plain": [
       "HBox(children=(IntProgress(value=0, max=10), HTML(value='')))"
      ]
     },
     "metadata": {},
     "output_type": "display_data"
    },
    {
     "data": {
      "application/vnd.jupyter.widget-view+json": {
       "model_id": "b3c8030ada0e4de8af52fb327b4711e8",
       "version_major": 2,
       "version_minor": 0
      },
      "text/plain": [
       "HBox(children=(IntProgress(value=0, max=10), HTML(value='')))"
      ]
     },
     "metadata": {},
     "output_type": "display_data"
    }
   ],
   "source": [
    "tree = GPTree(mutation_rate=0.2, input_vars=input_vars, max_depth=3, operators=operators, \\\n",
    "              pop_size=500, trunc_ratio=0.2)\n",
    "tree.run(Xtr, ttr, 10)"
   ]
  },
  {
   "cell_type": "code",
   "execution_count": 833,
   "metadata": {},
   "outputs": [
    {
     "data": {
      "text/plain": [
       "(array([4, 5, 5, 5]), array([6.0, 7.0, 3.0, 6.0], dtype=object))"
      ]
     },
     "execution_count": 833,
     "metadata": {},
     "output_type": "execute_result"
    }
   ],
   "source": [
    "array(tree.predict(Xte))[0], tte[0]"
   ]
  },
  {
   "cell_type": "markdown",
   "metadata": {},
   "source": [
    "# time without jit: 25:57"
   ]
  },
  {
   "cell_type": "markdown",
   "metadata": {},
   "source": [
    "# Test the best function"
   ]
  },
  {
   "cell_type": "markdown",
   "metadata": {},
   "source": [
    "### Larger (250) training set"
   ]
  },
  {
   "cell_type": "code",
   "execution_count": 736,
   "metadata": {},
   "outputs": [
    {
     "data": {
      "text/plain": [
       "0.07716049382716049"
      ]
     },
     "execution_count": 736,
     "metadata": {},
     "output_type": "execute_result"
    }
   ],
   "source": [
    "prob = 1\n",
    "for i in range(4):\n",
    "    prob *= 1/6\n",
    "prob * 100"
   ]
  },
  {
   "cell_type": "code",
   "execution_count": 739,
   "metadata": {},
   "outputs": [
    {
     "data": {
      "text/plain": [
       "'Accuracy: 6.399999999999995%.'"
      ]
     },
     "execution_count": 739,
     "metadata": {},
     "output_type": "execute_result"
    }
   ],
   "source": [
    "def get_accuracy(individual, Xte, tte):\n",
    "    acc = zeros(len(Xte)).astype(bool)\n",
    "    for i, (x, t) in enumerate(zip(Xte, tte.astype(int))):\n",
    "#         print(individual(*x).astype(int), t)\n",
    "        acc[i] = count_nonzero(individual(*x).astype(int) - t)\n",
    "        \n",
    "    return F'Accuracy: {(1 - count_nonzero(acc)/len(tte)) * 100}%.'\n",
    "        \n",
    "get_accuracy(best_func, Xte, tte)"
   ]
  },
  {
   "cell_type": "code",
   "execution_count": 68,
   "metadata": {},
   "outputs": [
    {
     "name": "stdout",
     "output_type": "stream",
     "text": [
      "Testing accuracy: 83.55%\n"
     ]
    }
   ],
   "source": [
    "print(f'Testing accuracy: {(1 - (sim.fitness(best_func, X=X, t=t))/len(t)) * 100:.2f}%')"
   ]
  },
  {
   "cell_type": "markdown",
   "metadata": {},
   "source": [
    "### 100 sized training set"
   ]
  },
  {
   "cell_type": "code",
   "execution_count": 57,
   "metadata": {
    "scrolled": true
   },
   "outputs": [
    {
     "name": "stdout",
     "output_type": "stream",
     "text": [
      "Testing accuracy: 86.00%\n"
     ]
    }
   ],
   "source": [
    "print(f'Testing accuracy: {(1 - (sim.fitness(best_func, X=Xte[:100], t=tte[:100]))/len(tte[:100])) * 100:.2f}%')"
   ]
  },
  {
   "cell_type": "code",
   "execution_count": 58,
   "metadata": {},
   "outputs": [
    {
     "name": "stdout",
     "output_type": "stream",
     "text": [
      "Testing accuracy: 83.02%\n"
     ]
    }
   ],
   "source": [
    "print(f'Testing accuracy: {(1 - (sim.fitness(best_func, X=X, t=t))/len(t)) * 100:.2f}%')"
   ]
  },
  {
   "cell_type": "markdown",
   "metadata": {},
   "source": [
    "### These didn't use less_than"
   ]
  },
  {
   "cell_type": "code",
   "execution_count": 48,
   "metadata": {
    "scrolled": false
   },
   "outputs": [
    {
     "name": "stdout",
     "output_type": "stream",
     "text": [
      "Testing accuracy: 84.00%\n"
     ]
    }
   ],
   "source": [
    "print(f'Testing accuracy: {(1 - (sim.fitness(best_func, X=Xte[:100], t=tte[:100]))/len(tte[:100])) * 100:.2f}%')"
   ]
  },
  {
   "cell_type": "code",
   "execution_count": 49,
   "metadata": {},
   "outputs": [
    {
     "name": "stdout",
     "output_type": "stream",
     "text": [
      "Testing accuracy: 79.23%\n"
     ]
    }
   ],
   "source": [
    "print(f'Testing accuracy: {(1 - (sim.fitness(best_func, X=X, t=t))/len(t)) * 100:.2f}%')"
   ]
  },
  {
   "cell_type": "code",
   "execution_count": null,
   "metadata": {},
   "outputs": [],
   "source": []
  }
 ],
 "metadata": {
  "kernelspec": {
   "display_name": "Python 3",
   "language": "python",
   "name": "python3"
  },
  "language_info": {
   "codemirror_mode": {
    "name": "ipython",
    "version": 3
   },
   "file_extension": ".py",
   "mimetype": "text/x-python",
   "name": "python",
   "nbconvert_exporter": "python",
   "pygments_lexer": "ipython3",
   "version": "3.7.2"
  }
 },
 "nbformat": 4,
 "nbformat_minor": 2
}
