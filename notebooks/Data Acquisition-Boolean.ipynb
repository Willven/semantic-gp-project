{
 "cells": [
  {
   "cell_type": "code",
   "execution_count": 1,
   "metadata": {
    "scrolled": true
   },
   "outputs": [
    {
     "name": "stdout",
     "output_type": "stream",
     "text": [
      "Populating the interactive namespace from numpy and matplotlib\n"
     ]
    }
   ],
   "source": [
    "%pylab inline\n",
    "import pandas as pd"
   ]
  },
  {
   "cell_type": "code",
   "execution_count": 2,
   "metadata": {},
   "outputs": [],
   "source": [
    "df = pd.read_excel('../data/2018.xlsx')"
   ]
  },
  {
   "cell_type": "code",
   "execution_count": 3,
   "metadata": {},
   "outputs": [
    {
     "name": "stdout",
     "output_type": "stream",
     "text": [
      "Notes for Tennis Data\r",
      "\r\n",
      "\r",
      "\r\n",
      "All data is in csv format, ready for use within standard spreadsheet applications. \r",
      "\r\n",
      "\r",
      "\r\n",
      "Key to results data:\r",
      "\r\n",
      "\r",
      "\r\n",
      "ATP = Tournament number (men)\r",
      "\r\n",
      "WTA = Tournament number (women)\r",
      "\r\n",
      "Location = Venue of tournament\r",
      "\r\n",
      "Tournament = Name of tounament (including sponsor if relevant)\r",
      "\r\n",
      "Data = Date of match (note: prior to 2003 the date shown for all matches played in a single tournament is the start date)\r",
      "\r\n",
      "Series = Name of ATP tennis series (Grand Slam, Masters, International or International Gold)\r",
      "\r\n",
      "Tier = Tier (tournament ranking) of WTA tennis series.\r",
      "\r\n",
      "Court = Type of court (outdoors or indoors)\r",
      "\r\n",
      "Surface = Type of surface (clay, hard, carpet or grass)\r",
      "\r\n",
      "Round = Round of match\r",
      "\r\n",
      "Best of = Maximum number of sets playable in match\r",
      "\r\n",
      "Winner = Match winner\r",
      "\r\n",
      "Loser = Match loser\r",
      "\r\n",
      "WRank = ATP Entry ranking of the match winner as of the start of the tournament\r",
      "\r\n",
      "LRank = ATP Entry ranking of the match loser as of the start of the tournament\r",
      "\r\n",
      "WPts = ATP Entry points of the match winner as of the start of the tournament\r",
      "\r\n",
      "LPts = ATP Entry points of the match loser as of the start of the tournament\r",
      "\r\n",
      "W1 = Number of games won in 1st set by match winner\r",
      "\r\n",
      "L1 = Number of games won in 1st set by match loser\r",
      "\r\n",
      "W2 = Number of games won in 2nd set by match winner\r",
      "\r\n",
      "L2 = Number of games won in 2nd set by match loser\r",
      "\r\n",
      "W3 = Number of games won in 3rd set by match winner\r",
      "\r\n",
      "L3 = Number of games won in 3rd set by match loser\r",
      "\r\n",
      "W4 = Number of games won in 4th set by match winner\r",
      "\r\n",
      "L4 = Number of games won in 4th set by match loser\r",
      "\r\n",
      "W5 = Number of games won in 5th set by match winner\r",
      "\r\n",
      "L5 = Number of games won in 5th set by match loser\r",
      "\r\n",
      "Wsets = Number of sets won by match winner\r",
      "\r\n",
      "Lsets = Number of sets won by match loser\r",
      "\r\n",
      "Comment = Comment on the match (Completed, won through retirement of loser, or via Walkover)\r",
      "\r\n",
      "\r",
      "\r\n",
      "\r",
      "\r\n",
      "Key to match betting odds data:\r",
      "\r\n",
      "\r",
      "\r\n",
      "B365W = Bet365 odds of match winner\r",
      "\r\n",
      "B365L = Bet365 odds of match loser\r",
      "\r\n",
      "B&WW = Bet&Win odds of match winner\r",
      "\r\n",
      "B&WL = Bet&Win odds of match loser\r",
      "\r\n",
      "CBW = Centrebet odds of match winner\r",
      "\r\n",
      "CBL = Centrebet odds of match loser\r",
      "\r\n",
      "EXW = Expekt odds of match winner\r",
      "\r\n",
      "EXL = Expekt odds of match loser\r",
      "\r\n",
      "LBW = Ladbrokes odds of match winner\r",
      "\r\n",
      "LBL = Ladbrokes odds of match loser\r",
      "\r\n",
      "GBW = Gamebookers odds of match winner\r",
      "\r\n",
      "GBL = Gamebookers odds of match loser\r",
      "\r\n",
      "IWW = Interwetten odds of match winner\r",
      "\r\n",
      "IWL = Interwetten odds of match loser\r",
      "\r\n",
      "PSW = Pinnacles Sports odds of match winner\r",
      "\r\n",
      "PSL = Pinnacles Sports odds of match loser\r",
      "\r\n",
      "SBW = Sportingbet odds of match winner\r",
      "\r\n",
      "SBL = Sportingbet odds of match loser\r",
      "\r\n",
      "SJW = Stan James odds of match winner\r",
      "\r\n",
      "SJL = Stan James odds of match loser\r",
      "\r\n",
      "UBW = Unibet odds of match winner\r",
      "\r\n",
      "UBL = Unibet odds of match loser\r",
      "\r\n",
      "\r",
      "\r\n",
      "MaxW= Maximum odds of match winner (as shown by Oddsportal.com)\r",
      "\r\n",
      "MaxL= Maximum odds of match loser (as shown by Oddsportal.com)\r",
      "\r\n",
      "AvgW= Average odds of match winner (as shown by Oddsportal.com)\r",
      "\r\n",
      "AvgL= Average odds of match loser (as shown by Oddsportal.com)\r",
      "\r\n",
      "\r",
      "\r\n",
      "\r",
      "\r\n",
      "Tennis-Data would like to acknowledge the following sources which are currently utilised in the compilation of Tennis-Data's results and odds files.\r",
      "\r\n",
      "\r",
      "\r\n",
      "Results:\r",
      "\r\n",
      "Xscores - http://www.xscores.com/\r",
      "\r\n",
      "ATPtennis.com - http://www.atptennis.com/\r",
      "\r\n",
      "ATP Tour Rankings and Results Page - http://www.stevegtennis.com/\r",
      "\r\n",
      "Livescore - http://www.livescore.net/\r",
      "\r\n",
      "\r",
      "\r\n",
      "Rankings:\r",
      "\r\n",
      "ATPtennis.com - http://www.atptennis.com/\r",
      "\r\n",
      "ATP Tour Rankings and Results Page - http://www.stevegtennis.com/\r",
      "\r\n",
      "WTA TOur Rankings - http://www.sonyericssonwtatour.com\r",
      "\r\n",
      "\r",
      "\r\n",
      "Betting odds for matches generally represent the most recent before play starts, as reported by oddsportal.com and the individual bookmakers."
     ]
    }
   ],
   "source": [
    "!cat ../data/notes.txt"
   ]
  },
  {
   "cell_type": "code",
   "execution_count": 4,
   "metadata": {},
   "outputs": [
    {
     "data": {
      "text/plain": [
       "Index(['ATP', 'Location', 'Tournament', 'Date', 'Series', 'Court', 'Surface',\n",
       "       'Round', 'Best of', 'Winner', 'Loser', 'WRank', 'LRank', 'WPts', 'LPts',\n",
       "       'W1', 'L1', 'W2', 'L2', 'W3', 'L3', 'W4', 'L4', 'W5', 'L5', 'Wsets',\n",
       "       'Lsets', 'Comment', 'B365W', 'B365L', 'EXW', 'EXL', 'LBW', 'LBL', 'PSW',\n",
       "       'PSL', 'MaxW', 'MaxL', 'AvgW', 'AvgL'],\n",
       "      dtype='object')"
      ]
     },
     "execution_count": 4,
     "metadata": {},
     "output_type": "execute_result"
    }
   ],
   "source": [
    "df.keys()"
   ]
  },
  {
   "cell_type": "code",
   "execution_count": 5,
   "metadata": {},
   "outputs": [],
   "source": [
    "def get_win_loss(row, player):\n",
    "    if row['Winner'] == player:\n",
    "        return 1\n",
    "    return 0\n",
    "\n",
    "def get_ranks(row, player):\n",
    "    if row['Winner'] == player:\n",
    "        return row['WRank'], row['LRank']\n",
    "    return row['LRank'], row['WRank']\n",
    "\n",
    "def is_winner(row, player):\n",
    "    return row['Winner'] == player\n",
    "\n",
    "def get_court(surface):\n",
    "    if surface == 'Clay':\n",
    "        return 1\n",
    "    if surface == 'Hard':\n",
    "        return 2\n",
    "    if surface == 'Grass':\n",
    "        return 3\n",
    "    if surface == 'Carpet':\n",
    "        return 4\n",
    "    raise RuntimeError('Unrecognised surface: ' + str(surface))"
   ]
  },
  {
   "cell_type": "code",
   "execution_count": 25,
   "metadata": {},
   "outputs": [],
   "source": [
    "def get_recent_matches(df, player, date):\n",
    "    frame = df[(df['Winner'] == player) | (df['Loser'] == player)]\n",
    "    frame = frame[frame['Date'] < date]\n",
    "    frame = frame.sort_values('Date', ascending=False)[0:3]\n",
    "    if len(frame) != 3:\n",
    "        raise RuntimeError()\n",
    "    return frame"
   ]
  },
  {
   "cell_type": "code",
   "execution_count": 26,
   "metadata": {},
   "outputs": [],
   "source": [
    "def is_winner(player, frames):\n",
    "    l = []\n",
    "    for i, frame in frames.iterrows():\n",
    "        if frame['Winner'] == player:\n",
    "            l.append(1)\n",
    "        else:\n",
    "            l.append(0)\n",
    "    return l"
   ]
  },
  {
   "cell_type": "code",
   "execution_count": 27,
   "metadata": {},
   "outputs": [],
   "source": [
    "def get_games(player):\n",
    "    pass"
   ]
  },
  {
   "cell_type": "code",
   "execution_count": 32,
   "metadata": {},
   "outputs": [],
   "source": [
    "def get_historical_data(player, framelist):\n",
    "    l = []\n",
    "    for i, frame in framelist.iterrows():\n",
    "        l += [get_court(frame['Surface']), int(frame['WRank']), int(frame['LRank'])]\n",
    "    return l"
   ]
  },
  {
   "cell_type": "code",
   "execution_count": 34,
   "metadata": {
    "scrolled": true
   },
   "outputs": [],
   "source": [
    "X = df[['Winner', 'Loser', 'WRank', 'LRank', 'Surface', 'WPts', 'LPts', 'Date', 'W1', 'W2', 'L1', 'L2']].copy()\n",
    "\n",
    "players = unique(df[['Winner', 'Loser']])\n",
    "\n",
    "form = pd.DataFrame(columns=['P1Rank', 'P2Rank', 'P1Pts', 'P2Pts', 'Surface', \\\n",
    "                            'AP1Surface', 'AP1Rank', 'AP1OppRank', 'BP1Surface', 'BP1Rank', 'BP1OppRank', \\\n",
    "                            'CP1Surface', 'CP1Rank', 'CP1OppRank', 'AP2Surface', 'AP2Rank', 'AP2OppRank', \\\n",
    "                            'BP2Surface', 'BP2Rank', 'BP2OppRank', 'CP2Surface', 'CP2Rank', 'CP2OppRank', \\\n",
    "                            'AP1Win', 'BP1Win', 'CP1Win', 'AP2Win', 'BP2Win', 'CP2Win'])\n",
    "t = []\n",
    "\n",
    "keys = X.keys()\n",
    "for player in players:\n",
    "    matches = X.loc[bitwise_or(X['Winner'] == player, X['Loser'] == player)]\n",
    "    if len(matches) < 4:\n",
    "        continue\n",
    "    srtd = matches.sort_values('Date', ascending=False)\n",
    "    idxs = srtd.index.tolist()\n",
    "    try:\n",
    "        for i in idxs[3:]:\n",
    "            row = srtd.loc[i]\n",
    "\n",
    "            win_hist_frames = get_recent_matches(X, row['Winner'], row['Date'])\n",
    "            loss_hist_frames = get_recent_matches(X, row['Loser'], row['Date'])\n",
    "#             print(win_hist_frames)\n",
    "#             print('\\n'*5)\n",
    "            \n",
    "             # Shuffle the items randomly\n",
    "            switch = random.choice([True, False], size=1)[0]\n",
    "            if switch:\n",
    "                p1 = int(row['WRank'])\n",
    "                p2 = int(row['LRank'])\n",
    "                p1pts = int(row['WPts'])\n",
    "                p2pts = int(row['LPts'])\n",
    "                p1hist = get_historical_data(row['Winner'], win_hist_frames)\n",
    "                p2hist = get_historical_data(row['Loser'], loss_hist_frames)\n",
    "                p1results = is_winner(row['Winner'], win_hist_frames)\n",
    "                p2results = is_winner(row['Loser'], loss_hist_frames)\n",
    "                \n",
    "                targ = [row['W1'], row['L1'], row['W2'], row['L2']]\n",
    "            else:\n",
    "                p1 = int(row['LRank'])\n",
    "                p2 = int(row['WRank'])\n",
    "                p1pts = int(row['LPts'])\n",
    "                p2pts = int(row['WPts'])\n",
    "                p1hist = get_historical_data(row['Loser'], loss_hist_frames)\n",
    "                p2hist = get_historical_data(row['Winner'], win_hist_frames)\n",
    "                p1results = is_winner(row['Loser'], loss_hist_frames)\n",
    "                p2results = is_winner(row['Winner'], win_hist_frames)\n",
    "                targ = [row['L1'], row['W1'], row['L2'], row['W2']]\n",
    "\n",
    "            \n",
    "            formarr = array([p1, p2, p1pts, p2pts, get_court(row['Surface']), *p1hist, *p2hist, \\\n",
    "                                        *p1results, *p2results])\n",
    "            \n",
    "            \n",
    "            if count_nonzero(isnan(targ)) > 0:\n",
    "                continue\n",
    "                \n",
    "            if count_nonzero(isnan(formarr)) > 0:\n",
    "                continue\n",
    "            \n",
    "            form.loc[form.size] = formarr\n",
    "            t.append(targ)\n",
    "    except (RuntimeError, ValueError):\n",
    "        continue"
   ]
  },
  {
   "cell_type": "code",
   "execution_count": 35,
   "metadata": {},
   "outputs": [],
   "source": [
    "form.to_csv('../data/reg_inputs.csv')"
   ]
  },
  {
   "cell_type": "code",
   "execution_count": 36,
   "metadata": {},
   "outputs": [],
   "source": [
    "t = array(t)"
   ]
  },
  {
   "cell_type": "code",
   "execution_count": 37,
   "metadata": {},
   "outputs": [],
   "source": [
    "savetxt('../data/reg_targets.csv', t, delimiter=',')"
   ]
  },
  {
   "cell_type": "code",
   "execution_count": null,
   "metadata": {},
   "outputs": [],
   "source": []
  }
 ],
 "metadata": {
  "kernelspec": {
   "display_name": "Python 3",
   "language": "python",
   "name": "python3"
  },
  "language_info": {
   "codemirror_mode": {
    "name": "ipython",
    "version": 3
   },
   "file_extension": ".py",
   "mimetype": "text/x-python",
   "name": "python",
   "nbconvert_exporter": "python",
   "pygments_lexer": "ipython3",
   "version": "3.7.2"
  }
 },
 "nbformat": 4,
 "nbformat_minor": 2
}
