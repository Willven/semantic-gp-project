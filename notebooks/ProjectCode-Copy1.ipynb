{
 "cells": [
  {
   "cell_type": "code",
   "execution_count": 1,
   "metadata": {},
   "outputs": [],
   "source": [
    "import sys\n",
    "\n",
    "sys.path.append('..')"
   ]
  },
  {
   "cell_type": "code",
   "execution_count": 2,
   "metadata": {},
   "outputs": [],
   "source": [
    "from mpgsgp import MPGSGP"
   ]
  },
  {
   "cell_type": "code",
   "execution_count": 3,
   "metadata": {},
   "outputs": [
    {
     "name": "stdout",
     "output_type": "stream",
     "text": [
      "Populating the interactive namespace from numpy and matplotlib\n"
     ]
    }
   ],
   "source": [
    "%pylab inline\n",
    "import random\n",
    "from tqdm import tqdm_notebook\n",
    "from numba import jit, njit"
   ]
  },
  {
   "cell_type": "code",
   "execution_count": 4,
   "metadata": {},
   "outputs": [
    {
     "data": {
      "text/plain": [
       "{'divide': 'warn', 'over': 'warn', 'under': 'ignore', 'invalid': 'warn'}"
      ]
     },
     "execution_count": 4,
     "metadata": {},
     "output_type": "execute_result"
    }
   ],
   "source": [
    "seterr(all='raise')"
   ]
  },
  {
   "cell_type": "code",
   "execution_count": 5,
   "metadata": {},
   "outputs": [],
   "source": [
    "def multiply(x, y):\n",
    "    return x * y\n",
    "\n",
    "def subtract(x, y):\n",
    "    return x - y\n",
    "\n",
    "def addition(x, y):\n",
    "    return x + y\n",
    "\n",
    "def safe_divide(x, y):\n",
    "    try:\n",
    "        return x / y\n",
    "    except FloatingPointError:\n",
    "        return maximum(x, y)\n",
    "    except ZeroDivisionError:\n",
    "        return maximum(x, y)\n",
    "            \n",
    "def euclidian(x, y):\n",
    "    if len(x) != len(y):\n",
    "        raise RuntimeError('Mismatched Shapes')\n",
    "    s = 0\n",
    "    for i, j in zip(x, y):\n",
    "        s += (i-j)**2\n",
    "    return s**0.5\n",
    "\n",
    "def less_than(x, y):\n",
    "    return int(x < y)\n",
    "    \n",
    "operators = ['multiply', 'subtract', 'addition', 'safe_divide', 'less_than']"
   ]
  },
  {
   "cell_type": "code",
   "execution_count": 6,
   "metadata": {},
   "outputs": [],
   "source": [
    "import pandas as pd"
   ]
  },
  {
   "cell_type": "code",
   "execution_count": 7,
   "metadata": {},
   "outputs": [
    {
     "name": "stdout",
     "output_type": "stream",
     "text": [
      "(1191, 47)\n"
     ]
    }
   ],
   "source": [
    "import pandas as pd\n",
    "\n",
    "X = pd.read_csv('../data/reg_inputs.csv')\n",
    "y = loadtxt('../data/reg_targets.csv', delimiter=',', dtype=float).astype('object')\n",
    "\n",
    "X = X.values[:, 1:].astype('object')\n",
    "print(X.shape)\n",
    "\n",
    "input_vars = [f'x{i}' for i in range(X.shape[1])]"
   ]
  },
  {
   "cell_type": "code",
   "execution_count": 8,
   "metadata": {},
   "outputs": [],
   "source": [
    "# Training set\n",
    "I = permutation(len(y))\n",
    "Xtr = X[I[:250]]\n",
    "ttr = y[I[:250]]\n",
    "\n",
    "Xte = X[I[-500:]]\n",
    "tte = y[I[-500:]]"
   ]
  },
  {
   "cell_type": "code",
   "execution_count": 9,
   "metadata": {},
   "outputs": [
    {
     "name": "stderr",
     "output_type": "stream",
     "text": [
      "G: 9. M: 340, A: 83080, BE: 340: 100%|██████████| 10/10 [00:14<00:00,  1.53s/it]\n",
      "G: 9. M: 305, A: 89618, BE: 305: 100%|██████████| 10/10 [00:14<00:00,  1.47s/it]\n",
      "G: 9. M: 369, A: 83603, BE: 369: 100%|██████████| 10/10 [00:14<00:00,  1.45s/it]\n",
      "G: 9. M: 337, A: 91632, BE: 337: 100%|██████████| 10/10 [00:13<00:00,  1.43s/it]\n"
     ]
    },
    {
     "data": {
      "text/plain": [
       "([[412.0,\n",
       "   395.3786463550981,\n",
       "   381.9038806683898,\n",
       "   358.63804661037534,\n",
       "   358.63804661037534,\n",
       "   350.11508270568817,\n",
       "   345.73853025866407,\n",
       "   345.6857420678059,\n",
       "   343.941198735659,\n",
       "   339.79901157146236],\n",
       "  [417.0954954059466,\n",
       "   356.87533734574964,\n",
       "   330.72102751337405,\n",
       "   318.8002115716246,\n",
       "   318.8002115716246,\n",
       "   317.8658195437263,\n",
       "   313.02981226254656,\n",
       "   312.3428923259092,\n",
       "   308.1060429427194,\n",
       "   305.3569608645652],\n",
       "  [446.0,\n",
       "   395.91727881427903,\n",
       "   395.91727881427903,\n",
       "   390.3092659089756,\n",
       "   385.86421457236946,\n",
       "   382.085814763466,\n",
       "   378.0934794319011,\n",
       "   372.5037031724795,\n",
       "   372.5037031724795,\n",
       "   369.4328407511708],\n",
       "  [400.1909554180441,\n",
       "   400.1909554180441,\n",
       "   398.8647238328546,\n",
       "   360.45704147085047,\n",
       "   352.1770380384824,\n",
       "   345.0953647405404,\n",
       "   343.6931327090609,\n",
       "   341.24293373844614,\n",
       "   339.3576735278139,\n",
       "   336.88313019635336]],\n",
       " [[87393.0095964317,\n",
       "   83541.49688161214,\n",
       "   69940.11963456066,\n",
       "   76956.1447421114,\n",
       "   71345.62709638369,\n",
       "   78775.31582823832,\n",
       "   79917.13675098354,\n",
       "   77328.56033953019,\n",
       "   77342.26064922377,\n",
       "   83080.09738710665],\n",
       "  [89963.44485208229,\n",
       "   77783.70656589122,\n",
       "   71341.92854372271,\n",
       "   78105.57532527478,\n",
       "   81857.89229396786,\n",
       "   74285.05293590564,\n",
       "   75850.9437711882,\n",
       "   84694.7401937933,\n",
       "   75894.65711844304,\n",
       "   89618.35073856103],\n",
       "  [90849.73702816988,\n",
       "   85134.75830731927,\n",
       "   75168.15630465702,\n",
       "   75009.28777306985,\n",
       "   75042.1674918356,\n",
       "   79004.29677510321,\n",
       "   77616.52292412033,\n",
       "   77182.348101116,\n",
       "   80309.05132898255,\n",
       "   83602.8749488709],\n",
       "  [85870.44153240575,\n",
       "   79288.9995154881,\n",
       "   81754.41637337481,\n",
       "   75786.52095655049,\n",
       "   64801.5011488612,\n",
       "   76789.84491138515,\n",
       "   76947.20423128741,\n",
       "   77477.59031107542,\n",
       "   79152.16342651876,\n",
       "   91632.02146285001]])"
      ]
     },
     "execution_count": 9,
     "metadata": {},
     "output_type": "execute_result"
    }
   ],
   "source": [
    "tree = MPGSGP(mutation_step=0.2, input_vars=input_vars, max_depth=3, operators=operators, \\\n",
    "              pop_size=500, trunc_ratio=0.2)\n",
    "tree.run(Xtr, ttr, 10)"
   ]
  },
  {
   "cell_type": "code",
   "execution_count": 10,
   "metadata": {},
   "outputs": [
    {
     "data": {
      "text/plain": [
       "(array([5.60247255, 5.76725355, 4.98906707, 5.74866607]),\n",
       " array([6.0, 1.0, 6.0, 2.0], dtype=object))"
      ]
     },
     "execution_count": 10,
     "metadata": {},
     "output_type": "execute_result"
    }
   ],
   "source": [
    "array(tree.predict(Xte))[0], tte[0]"
   ]
  },
  {
   "cell_type": "markdown",
   "metadata": {},
   "source": [
    "# time without jit: 25:57"
   ]
  },
  {
   "cell_type": "markdown",
   "metadata": {},
   "source": [
    "# Test the best function"
   ]
  },
  {
   "cell_type": "markdown",
   "metadata": {},
   "source": [
    "### Larger (250) training set"
   ]
  },
  {
   "cell_type": "code",
   "execution_count": 11,
   "metadata": {},
   "outputs": [
    {
     "data": {
      "text/plain": [
       "0.07716049382716049"
      ]
     },
     "execution_count": 11,
     "metadata": {},
     "output_type": "execute_result"
    }
   ],
   "source": [
    "prob = 1\n",
    "for i in range(4):\n",
    "    prob *= 1/6\n",
    "prob * 100"
   ]
  },
  {
   "cell_type": "code",
   "execution_count": 12,
   "metadata": {},
   "outputs": [
    {
     "ename": "NameError",
     "evalue": "name 'best_func' is not defined",
     "output_type": "error",
     "traceback": [
      "\u001b[0;31m---------------------------------------------------------------------------\u001b[0m",
      "\u001b[0;31mNameError\u001b[0m                                 Traceback (most recent call last)",
      "\u001b[0;32m<ipython-input-12-280817c30982>\u001b[0m in \u001b[0;36m<module>\u001b[0;34m\u001b[0m\n\u001b[1;32m      7\u001b[0m     \u001b[0;32mreturn\u001b[0m \u001b[0;34mF'Accuracy: {(1 - count_nonzero(acc)/len(tte)) * 100}%.'\u001b[0m\u001b[0;34m\u001b[0m\u001b[0;34m\u001b[0m\u001b[0m\n\u001b[1;32m      8\u001b[0m \u001b[0;34m\u001b[0m\u001b[0m\n\u001b[0;32m----> 9\u001b[0;31m \u001b[0mget_accuracy\u001b[0m\u001b[0;34m(\u001b[0m\u001b[0mbest_func\u001b[0m\u001b[0;34m,\u001b[0m \u001b[0mXte\u001b[0m\u001b[0;34m,\u001b[0m \u001b[0mtte\u001b[0m\u001b[0;34m)\u001b[0m\u001b[0;34m\u001b[0m\u001b[0;34m\u001b[0m\u001b[0m\n\u001b[0m",
      "\u001b[0;31mNameError\u001b[0m: name 'best_func' is not defined"
     ]
    }
   ],
   "source": [
    "def get_accuracy(individual, Xte, tte):\n",
    "    acc = zeros(len(Xte)).astype(bool)\n",
    "    for i, (x, t) in enumerate(zip(Xte, tte.astype(int))):\n",
    "#         print(individual(*x).astype(int), t)\n",
    "        acc[i] = count_nonzero(individual(*x).astype(int) - t)\n",
    "        \n",
    "    return F'Accuracy: {(1 - count_nonzero(acc)/len(tte)) * 100}%.'\n",
    "        \n",
    "get_accuracy(best_func, Xte, tte)"
   ]
  },
  {
   "cell_type": "code",
   "execution_count": null,
   "metadata": {},
   "outputs": [],
   "source": [
    "print(f'Testing accuracy: {(1 - (sim.fitness(best_func, X=X, t=t))/len(t)) * 100:.2f}%')"
   ]
  },
  {
   "cell_type": "markdown",
   "metadata": {},
   "source": [
    "### 100 sized training set"
   ]
  },
  {
   "cell_type": "code",
   "execution_count": null,
   "metadata": {
    "scrolled": true
   },
   "outputs": [],
   "source": [
    "print(f'Testing accuracy: {(1 - (sim.fitness(best_func, X=Xte[:100], t=tte[:100]))/len(tte[:100])) * 100:.2f}%')"
   ]
  },
  {
   "cell_type": "code",
   "execution_count": null,
   "metadata": {},
   "outputs": [],
   "source": [
    "print(f'Testing accuracy: {(1 - (sim.fitness(best_func, X=X, t=t))/len(t)) * 100:.2f}%')"
   ]
  },
  {
   "cell_type": "markdown",
   "metadata": {},
   "source": [
    "### These didn't use less_than"
   ]
  },
  {
   "cell_type": "code",
   "execution_count": null,
   "metadata": {
    "scrolled": false
   },
   "outputs": [],
   "source": [
    "print(f'Testing accuracy: {(1 - (sim.fitness(best_func, X=Xte[:100], t=tte[:100]))/len(tte[:100])) * 100:.2f}%')"
   ]
  },
  {
   "cell_type": "code",
   "execution_count": null,
   "metadata": {},
   "outputs": [],
   "source": [
    "print(f'Testing accuracy: {(1 - (sim.fitness(best_func, X=X, t=t))/len(t)) * 100:.2f}%')"
   ]
  },
  {
   "cell_type": "code",
   "execution_count": null,
   "metadata": {},
   "outputs": [],
   "source": []
  }
 ],
 "metadata": {
  "kernelspec": {
   "display_name": "Python 3",
   "language": "python",
   "name": "python3"
  },
  "language_info": {
   "codemirror_mode": {
    "name": "ipython",
    "version": 3
   },
   "file_extension": ".py",
   "mimetype": "text/x-python",
   "name": "python",
   "nbconvert_exporter": "python",
   "pygments_lexer": "ipython3",
   "version": "3.7.2"
  }
 },
 "nbformat": 4,
 "nbformat_minor": 2
}
