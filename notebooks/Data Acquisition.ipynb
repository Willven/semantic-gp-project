{
 "cells": [
  {
   "cell_type": "code",
   "execution_count": 1,
   "metadata": {
    "scrolled": true
   },
   "outputs": [
    {
     "name": "stdout",
     "output_type": "stream",
     "text": [
      "Populating the interactive namespace from numpy and matplotlib\n"
     ]
    }
   ],
   "source": [
    "%pylab inline\n",
    "import pandas as pd"
   ]
  },
  {
   "cell_type": "code",
   "execution_count": 2,
   "metadata": {},
   "outputs": [],
   "source": [
    "df = pd.read_excel('../data/2018.xlsx')"
   ]
  },
  {
   "cell_type": "code",
   "execution_count": 3,
   "metadata": {},
   "outputs": [
    {
     "name": "stdout",
     "output_type": "stream",
     "text": [
      "Notes for Tennis Data\r",
      "\r\n",
      "\r",
      "\r\n",
      "All data is in csv format, ready for use within standard spreadsheet applications. \r",
      "\r\n",
      "\r",
      "\r\n",
      "Key to results data:\r",
      "\r\n",
      "\r",
      "\r\n",
      "ATP = Tournament number (men)\r",
      "\r\n",
      "WTA = Tournament number (women)\r",
      "\r\n",
      "Location = Venue of tournament\r",
      "\r\n",
      "Tournament = Name of tounament (including sponsor if relevant)\r",
      "\r\n",
      "Data = Date of match (note: prior to 2003 the date shown for all matches played in a single tournament is the start date)\r",
      "\r\n",
      "Series = Name of ATP tennis series (Grand Slam, Masters, International or International Gold)\r",
      "\r\n",
      "Tier = Tier (tournament ranking) of WTA tennis series.\r",
      "\r\n",
      "Court = Type of court (outdoors or indoors)\r",
      "\r\n",
      "Surface = Type of surface (clay, hard, carpet or grass)\r",
      "\r\n",
      "Round = Round of match\r",
      "\r\n",
      "Best of = Maximum number of sets playable in match\r",
      "\r\n",
      "Winner = Match winner\r",
      "\r\n",
      "Loser = Match loser\r",
      "\r\n",
      "WRank = ATP Entry ranking of the match winner as of the start of the tournament\r",
      "\r\n",
      "LRank = ATP Entry ranking of the match loser as of the start of the tournament\r",
      "\r\n",
      "WPts = ATP Entry points of the match winner as of the start of the tournament\r",
      "\r\n",
      "LPts = ATP Entry points of the match loser as of the start of the tournament\r",
      "\r\n",
      "W1 = Number of games won in 1st set by match winner\r",
      "\r\n",
      "L1 = Number of games won in 1st set by match loser\r",
      "\r\n",
      "W2 = Number of games won in 2nd set by match winner\r",
      "\r\n",
      "L2 = Number of games won in 2nd set by match loser\r",
      "\r\n",
      "W3 = Number of games won in 3rd set by match winner\r",
      "\r\n",
      "L3 = Number of games won in 3rd set by match loser\r",
      "\r\n",
      "W4 = Number of games won in 4th set by match winner\r",
      "\r\n",
      "L4 = Number of games won in 4th set by match loser\r",
      "\r\n",
      "W5 = Number of games won in 5th set by match winner\r",
      "\r\n",
      "L5 = Number of games won in 5th set by match loser\r",
      "\r\n",
      "Wsets = Number of sets won by match winner\r",
      "\r\n",
      "Lsets = Number of sets won by match loser\r",
      "\r\n",
      "Comment = Comment on the match (Completed, won through retirement of loser, or via Walkover)\r",
      "\r\n",
      "\r",
      "\r\n",
      "\r",
      "\r\n",
      "Key to match betting odds data:\r",
      "\r\n",
      "\r",
      "\r\n",
      "B365W = Bet365 odds of match winner\r",
      "\r\n",
      "B365L = Bet365 odds of match loser\r",
      "\r\n",
      "B&WW = Bet&Win odds of match winner\r",
      "\r\n",
      "B&WL = Bet&Win odds of match loser\r",
      "\r\n",
      "CBW = Centrebet odds of match winner\r",
      "\r\n",
      "CBL = Centrebet odds of match loser\r",
      "\r\n",
      "EXW = Expekt odds of match winner\r",
      "\r\n",
      "EXL = Expekt odds of match loser\r",
      "\r\n",
      "LBW = Ladbrokes odds of match winner\r",
      "\r\n",
      "LBL = Ladbrokes odds of match loser\r",
      "\r\n",
      "GBW = Gamebookers odds of match winner\r",
      "\r\n",
      "GBL = Gamebookers odds of match loser\r",
      "\r\n",
      "IWW = Interwetten odds of match winner\r",
      "\r\n",
      "IWL = Interwetten odds of match loser\r",
      "\r\n",
      "PSW = Pinnacles Sports odds of match winner\r",
      "\r\n",
      "PSL = Pinnacles Sports odds of match loser\r",
      "\r\n",
      "SBW = Sportingbet odds of match winner\r",
      "\r\n",
      "SBL = Sportingbet odds of match loser\r",
      "\r\n",
      "SJW = Stan James odds of match winner\r",
      "\r\n",
      "SJL = Stan James odds of match loser\r",
      "\r\n",
      "UBW = Unibet odds of match winner\r",
      "\r\n",
      "UBL = Unibet odds of match loser\r",
      "\r\n",
      "\r",
      "\r\n",
      "MaxW= Maximum odds of match winner (as shown by Oddsportal.com)\r",
      "\r\n",
      "MaxL= Maximum odds of match loser (as shown by Oddsportal.com)\r",
      "\r\n",
      "AvgW= Average odds of match winner (as shown by Oddsportal.com)\r",
      "\r\n",
      "AvgL= Average odds of match loser (as shown by Oddsportal.com)\r",
      "\r\n",
      "\r",
      "\r\n",
      "\r",
      "\r\n",
      "Tennis-Data would like to acknowledge the following sources which are currently utilised in the compilation of Tennis-Data's results and odds files.\r",
      "\r\n",
      "\r",
      "\r\n",
      "Results:\r",
      "\r\n",
      "Xscores - http://www.xscores.com/\r",
      "\r\n",
      "ATPtennis.com - http://www.atptennis.com/\r",
      "\r\n",
      "ATP Tour Rankings and Results Page - http://www.stevegtennis.com/\r",
      "\r\n",
      "Livescore - http://www.livescore.net/\r",
      "\r\n",
      "\r",
      "\r\n",
      "Rankings:\r",
      "\r\n",
      "ATPtennis.com - http://www.atptennis.com/\r",
      "\r\n",
      "ATP Tour Rankings and Results Page - http://www.stevegtennis.com/\r",
      "\r\n",
      "WTA TOur Rankings - http://www.sonyericssonwtatour.com\r",
      "\r\n",
      "\r",
      "\r\n",
      "Betting odds for matches generally represent the most recent before play starts, as reported by oddsportal.com and the individual bookmakers."
     ]
    }
   ],
   "source": [
    "!cat ../data/notes.txt"
   ]
  },
  {
   "cell_type": "code",
   "execution_count": 4,
   "metadata": {},
   "outputs": [
    {
     "data": {
      "text/plain": [
       "Index(['ATP', 'Location', 'Tournament', 'Date', 'Series', 'Court', 'Surface',\n",
       "       'Round', 'Best of', 'Winner', 'Loser', 'WRank', 'LRank', 'WPts', 'LPts',\n",
       "       'W1', 'L1', 'W2', 'L2', 'W3', 'L3', 'W4', 'L4', 'W5', 'L5', 'Wsets',\n",
       "       'Lsets', 'Comment', 'B365W', 'B365L', 'EXW', 'EXL', 'LBW', 'LBL', 'PSW',\n",
       "       'PSL', 'MaxW', 'MaxL', 'AvgW', 'AvgL'],\n",
       "      dtype='object')"
      ]
     },
     "execution_count": 4,
     "metadata": {},
     "output_type": "execute_result"
    }
   ],
   "source": [
    "df.keys()"
   ]
  },
  {
   "cell_type": "code",
   "execution_count": 5,
   "metadata": {},
   "outputs": [],
   "source": [
    "X = df[['Winner', 'Loser', 'WRank', 'LRank', 'Court', 'WPts', 'LPts', 'Date']].copy()"
   ]
  },
  {
   "cell_type": "code",
   "execution_count": null,
   "metadata": {},
   "outputs": [],
   "source": []
  },
  {
   "cell_type": "code",
   "execution_count": 6,
   "metadata": {},
   "outputs": [],
   "source": [
    "def get_win_loss(row, player):\n",
    "    if row['Winner'] == player:\n",
    "        return True\n",
    "    return False\n",
    "\n",
    "def get_ranks(row, player):\n",
    "    if row['Winner'] == player:\n",
    "        return row['WRank'], row['LRank']\n",
    "    return row['LRank'], row['WRank']\n",
    "\n",
    "def is_winner(row, player):\n",
    "    return row['Winner'] == player"
   ]
  },
  {
   "cell_type": "code",
   "execution_count": 7,
   "metadata": {
    "scrolled": false
   },
   "outputs": [],
   "source": [
    "players = unique(df[['Winner', 'Loser']])\n",
    "# form = pd.DataFrame(columns=['Winner', 'Loser', 'WRank', 'LRank', 'Court', 'WPts', 'LPts', 'Date',\n",
    "#        'A', 'B', 'C', 'D', 'E'])\n",
    "form = []\n",
    "\n",
    "t = []\n",
    "\n",
    "keys = X.keys()\n",
    "for player in players:\n",
    "    matches = X.loc[bitwise_or(X['Winner'] == player, X['Loser'] == player)]\n",
    "    if len(matches) < 5:\n",
    "        continue\n",
    "    srtd = matches.sort_values('Date')\n",
    "    history = []\n",
    "    courtHistory = []\n",
    "    opponentRank = []\n",
    "    currentRank = []\n",
    "    \n",
    "    counter = 0\n",
    "    for idx, row in srtd.iterrows():\n",
    "        if counter < 5:\n",
    "            history.append(get_win_loss(row, player))\n",
    "            courtHistory.append(row['Court'])\n",
    "            persr, oppr = get_ranks(row, player)\n",
    "            opponentRank.append(oppr)\n",
    "            currentRank.append(persr)\n",
    "            counter += 1\n",
    "            continue\n",
    "        \n",
    "        histFrame = pd.DataFrame([history], columns=['A', 'B', 'C', 'D', 'E'])\n",
    "        courtFrame = pd.DataFrame([courtHistory], columns=['AC', 'BC', 'CC', 'DC', 'EC'])\n",
    "        opponentFrame = pd.DataFrame([opponentRank], columns=['AR', 'BR', 'CR', 'DR', 'ER'])\n",
    "        currentFrame = pd.DataFrame([currentRank], columns=['APR', 'BPR', 'CPR', 'DPR', 'EPR'])\n",
    "        \n",
    "        rowFrame = pd.DataFrame(array([row]), columns=keys)\n",
    "        ctRow = pd.concat((rowFrame, histFrame, courtFrame, opponentFrame, currentFrame), axis=1)\n",
    "        \n",
    "        form.append(ctRow.iloc[0])\n",
    "        t.append(is_winner(row, player))\n",
    "        \n",
    "        history.pop(0), courtHistory.pop(0), opponentRank.pop(0), currentRank.pop(0)\n",
    "        history.append(get_win_loss(row, player)), courtHistory.append(row['Court'])\n",
    "        persr, oppr = get_ranks(row, player)\n",
    "        opponentRank.append(persr), currentRank.append(oppr)\n",
    " "
   ]
  },
  {
   "cell_type": "code",
   "execution_count": 8,
   "metadata": {},
   "outputs": [],
   "source": [
    "form = pd.DataFrame(form)"
   ]
  },
  {
   "cell_type": "code",
   "execution_count": 9,
   "metadata": {},
   "outputs": [],
   "source": [
    "X = form[[\n",
    "    'WRank', 'LRank', 'Court', 'WPts', 'LPts',\n",
    "    'A', 'B', 'C', 'D', 'E',\n",
    "    'AC', 'BC', 'CC', 'DC', 'EC',\n",
    "    'AR', 'BR', 'CR', 'DR', 'ER',\n",
    "    'APR', 'BPR', 'CPR', 'DPR', 'EPR'\n",
    "]]"
   ]
  },
  {
   "cell_type": "code",
   "execution_count": 10,
   "metadata": {},
   "outputs": [
    {
     "data": {
      "text/plain": [
       "(True, 1)"
      ]
     },
     "execution_count": 10,
     "metadata": {},
     "output_type": "execute_result"
    }
   ],
   "source": [
    "t[0], count_nonzero([t[0]])"
   ]
  },
  {
   "cell_type": "code",
   "execution_count": 11,
   "metadata": {
    "scrolled": true
   },
   "outputs": [
    {
     "name": "stdout",
     "output_type": "stream",
     "text": [
      "There are 4194 samples, with 25 input features.\n",
      "There are 2027 losses and 2167 wins.\n"
     ]
    }
   ],
   "source": [
    "print(F'There are {len(t)} samples, with {len(X.keys())} input features.')\n",
    "print(F'There are {len(t) - count_nonzero(t)} losses and {count_nonzero(t)} wins.')"
   ]
  },
  {
   "cell_type": "code",
   "execution_count": 12,
   "metadata": {},
   "outputs": [
    {
     "name": "stderr",
     "output_type": "stream",
     "text": [
      "/anaconda3/envs/eco/lib/python3.7/site-packages/ipykernel_launcher.py:2: FutureWarning: The signature of `Series.to_csv` was aligned to that of `DataFrame.to_csv`, and argument 'header' will change its default value from False to True: please pass an explicit value to suppress this warning.\n",
      "  \n"
     ]
    }
   ],
   "source": [
    "s = pd.Series(t)\n",
    "s.to_csv('../data/targets.csv')\n",
    "X.to_csv('../data/inputs.csv')"
   ]
  },
  {
   "cell_type": "code",
   "execution_count": null,
   "metadata": {},
   "outputs": [],
   "source": []
  }
 ],
 "metadata": {
  "kernelspec": {
   "display_name": "Python 3",
   "language": "python",
   "name": "python3"
  },
  "language_info": {
   "codemirror_mode": {
    "name": "ipython",
    "version": 3
   },
   "file_extension": ".py",
   "mimetype": "text/x-python",
   "name": "python",
   "nbconvert_exporter": "python",
   "pygments_lexer": "ipython3",
   "version": "3.7.2"
  }
 },
 "nbformat": 4,
 "nbformat_minor": 2
}
